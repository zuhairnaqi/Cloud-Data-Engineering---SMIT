{
 "cells": [
  {
   "cell_type": "markdown",
   "id": "658f5c85-69bb-43d0-ad0d-0fc8fe357f7b",
   "metadata": {},
   "source": [
    "#### 1. Write a program that accepts a list from user and print the alternate element of list. "
   ]
  },
  {
   "cell_type": "code",
   "execution_count": 4,
   "id": "88ac39c9-cf8a-416d-b552-a667eace191d",
   "metadata": {},
   "outputs": [
    {
     "name": "stdin",
     "output_type": "stream",
     "text": [
      "Enter a 1 fruit name apple\n",
      "Enter a 2 fruit name mango\n",
      "Enter a 3 fruit name banana\n",
      "Enter a 4 fruit name grapes\n"
     ]
    },
    {
     "name": "stdout",
     "output_type": "stream",
     "text": [
      "apple\n",
      "banana\n"
     ]
    }
   ],
   "source": [
    "fruits = []\n",
    "for i in range(4):\n",
    "    userInput = input(f\"Enter a {i + 1} fruit name\")\n",
    "    fruits.append(userInput)\n",
    "for i in range(0, 4, 2):\n",
    "    print(fruits[i])"
   ]
  },
  {
   "cell_type": "markdown",
   "id": "ccddcc39-2ede-47ef-abe2-765f14ae639d",
   "metadata": {},
   "source": [
    "#### 2. Write a program that accepts a list from user. Your program should reverse the content of list and display it. Do not use reverse() method. "
   ]
  },
  {
   "cell_type": "code",
   "execution_count": 6,
   "id": "08fd28a5-95e8-4260-a836-eee9968b7cf9",
   "metadata": {},
   "outputs": [
    {
     "name": "stdin",
     "output_type": "stream",
     "text": [
      "Enter a 1 input to reverse the order pen\n",
      "Enter a 2 input to reverse the order pencil\n",
      "Enter a 3 input to reverse the order rubber\n",
      "Enter a 4 input to reverse the order sharpner\n"
     ]
    },
    {
     "name": "stdout",
     "output_type": "stream",
     "text": [
      "sharpner\n",
      "rubber\n",
      "pencil\n",
      "pen\n"
     ]
    }
   ],
   "source": [
    "items = []\n",
    "for i in range(4):\n",
    "    userInput = input(f\"Enter a {i + 1} input to reverse the order\")\n",
    "    items.append(userInput)\n",
    "for i in range(3, -1, -1):\n",
    "    print(items[i])"
   ]
  },
  {
   "cell_type": "markdown",
   "id": "3ce618a3-2faa-4dfc-80f7-efb3e83817c3",
   "metadata": {},
   "source": [
    "#### 3. Find and display the largest number of a list without using built-in function max(). Your program should ask the user to input values in list from keyboard."
   ]
  },
  {
   "cell_type": "code",
   "execution_count": 7,
   "id": "35accc15-8bab-45b6-801c-616acf65b7cf",
   "metadata": {},
   "outputs": [
    {
     "name": "stdin",
     "output_type": "stream",
     "text": [
      "Enter a 1 number to find the maximum 10\n",
      "Enter a 2 number to find the maximum 12\n",
      "Enter a 3 number to find the maximum 11\n",
      "Enter a 4 number to find the maximum 6\n"
     ]
    },
    {
     "name": "stdout",
     "output_type": "stream",
     "text": [
      "12\n"
     ]
    }
   ],
   "source": [
    "maxNum = 0\n",
    "for i in range(4):\n",
    "    userInput = int(input(f\"Enter a {i + 1} number to find the maximum\"))\n",
    "    if userInput > maxNum:\n",
    "        maxNum = userInput\n",
    "print(maxNum)"
   ]
  },
  {
   "cell_type": "markdown",
   "id": "54728b9e-ce81-4ed7-9aca-dc2f0827c9af",
   "metadata": {},
   "source": [
    "#### 4. Write a program that rotates the element of a list so that the element at the first index moves to the second index, the element in the second index moves to the third index, etc., and the element in the last index moves to the first index."
   ]
  },
  {
   "cell_type": "code",
   "execution_count": 11,
   "id": "4a814c0d-e3b6-4b92-89f1-9837b6070265",
   "metadata": {},
   "outputs": [
    {
     "name": "stdout",
     "output_type": "stream",
     "text": [
      "['D', 'A', 'B', 'C']\n",
      "['C', 'D', 'A', 'B']\n",
      "['B', 'C', 'D', 'A']\n",
      "['A', 'B', 'C', 'D']\n"
     ]
    }
   ],
   "source": [
    "chain = ['A', 'B', 'C', 'D']\n",
    "for i in range(len(chain)):\n",
    "    lastElement = chain.pop()\n",
    "    chain.insert(0, lastElement)\n",
    "    print(chain)"
   ]
  },
  {
   "cell_type": "markdown",
   "id": "19c39b10-25fe-4fd7-ac09-f10efbaea411",
   "metadata": {},
   "source": [
    "#### 5. Write a program that input a string and ask user to delete a given word from a string"
   ]
  },
  {
   "cell_type": "code",
   "execution_count": 13,
   "id": "a4928f25-9244-4092-8971-0b304c6e0a26",
   "metadata": {},
   "outputs": [
    {
     "name": "stdin",
     "output_type": "stream",
     "text": [
      "Enter any input zuhair naqi ali\n",
      "What word you wanted to delete from input? naqi\n"
     ]
    },
    {
     "name": "stdout",
     "output_type": "stream",
     "text": [
      "zuhair ali\n"
     ]
    }
   ],
   "source": [
    "str = input(\"Enter any input\")\n",
    "deleteStr = input(\"What word you wanted to delete from input?\")\n",
    "list = str.split()\n",
    "list.remove(deleteStr)\n",
    "print(\" \".join(list))"
   ]
  },
  {
   "cell_type": "markdown",
   "id": "a8b0613d-1a20-4420-9d7f-eb40dd72716e",
   "metadata": {},
   "source": [
    "####  6. Write a program that reads a string from the user containing a date in the form mm/dd/yyyy. It should print the date in the form March 12, 2021. "
   ]
  },
  {
   "cell_type": "code",
   "execution_count": 15,
   "id": "92d6b3e5-7cdd-4ad4-a4f3-3cc22481d2f1",
   "metadata": {},
   "outputs": [
    {
     "name": "stdin",
     "output_type": "stream",
     "text": [
      "Enter a date in format mm/dd/yyyy 09/12/2024\n"
     ]
    },
    {
     "name": "stdout",
     "output_type": "stream",
     "text": [
      "September 12, 2024\n"
     ]
    }
   ],
   "source": [
    "dateStr = input(\"Enter a date in format mm/dd/yyyy\")\n",
    "dateList = dateStr.split(\"/\")\n",
    "monthIndex = int(dateList[0]) - 1\n",
    "monthsList = ['January', 'February', 'March', 'April', 'May', 'June', 'July', 'August', 'September', 'October', 'November', 'December']\n",
    "print(f\"{monthsList[monthIndex]} {dateList[1]}, {dateList[2]}\")"
   ]
  },
  {
   "cell_type": "markdown",
   "id": "edc20c09-58d6-4e7f-bc58-c587d6233bfc",
   "metadata": {},
   "source": [
    "####  7. Write a program with a function that accepts a string from keyboard and create a new string after converting character of each word capitalized. For instance, if the sentence is \"stop and smell the roses.\" the output should be \"Stop And Smell The Roses\" "
   ]
  },
  {
   "cell_type": "code",
   "execution_count": 24,
   "id": "6fbdc723-4828-4609-8be5-f1745b47d758",
   "metadata": {},
   "outputs": [
    {
     "name": "stdin",
     "output_type": "stream",
     "text": [
      "Enter a sentence to make it every word capitalize stop and smell the roses\n"
     ]
    },
    {
     "name": "stdout",
     "output_type": "stream",
     "text": [
      "Stop And Smell The Roses\n"
     ]
    }
   ],
   "source": [
    "def capitalizeWords(sentence):\n",
    "    words = sentence.split()\n",
    "    desiredWords = []\n",
    "    for word in words:\n",
    "        desiredWords.append(word.title())\n",
    "    return \" \".join(desiredWords)\n",
    "userInput = input(\"Enter a sentence to make it every word capitalize\")\n",
    "print(capitalizeWords(userInput))"
   ]
  },
  {
   "cell_type": "markdown",
   "id": "5180da78-1d80-45d6-9f56-f6c626c1083a",
   "metadata": {},
   "source": [
    "#### 8. Find the sum of each row of matrix of size m x n. For example for the following matrix output will be like this : \n",
    "* 2    11    7     12\n",
    "* 5     2    9     15\n",
    "* 8     3    10    42"
   ]
  },
  {
   "cell_type": "code",
   "execution_count": 26,
   "id": "6cd828b6-aa04-45ea-bad6-f29efcecf594",
   "metadata": {},
   "outputs": [
    {
     "name": "stdout",
     "output_type": "stream",
     "text": [
      "Row 1 equals 32\n",
      "Row 2 equals 31\n",
      "Row 3 equals 63\n"
     ]
    }
   ],
   "source": [
    "matrix = [\n",
    "    [2, 11, 7, 12],\n",
    "    [5, 2, 9, 15],\n",
    "    [8, 3, 10, 42]\n",
    "]\n",
    "rowNum = 0\n",
    "for row in matrix:\n",
    "    rowNum += 1\n",
    "    count = 0\n",
    "    for number in row:\n",
    "        count += number\n",
    "    print(f\"Row {rowNum} equals {count}\")"
   ]
  },
  {
   "cell_type": "markdown",
   "id": "d6919c19-75a9-4df9-8aa4-d55bde1d8d81",
   "metadata": {},
   "source": [
    "#### 9. Write a program to add two matrices of size n x m. "
   ]
  },
  {
   "cell_type": "code",
   "execution_count": 28,
   "id": "782d0f5c-ba40-45d1-9b00-40a5994bbaf7",
   "metadata": {},
   "outputs": [
    {
     "name": "stdout",
     "output_type": "stream",
     "text": [
      "[[6, 14], [30, 14]]\n"
     ]
    }
   ],
   "source": [
    "matrix1 = [\n",
    "    [2, 11],\n",
    "    [5, 2]\n",
    "]\n",
    "matrix2 = [\n",
    "    [4, 3],\n",
    "    [25, 12]\n",
    "]\n",
    "for rowIndex in range(len(matrix1)):\n",
    "    for colIndex in range(len(matrix1[rowIndex])):\n",
    "        matrix1[rowIndex][colIndex] += matrix2[rowIndex][colIndex]\n",
    "print(matrix1)"
   ]
  },
  {
   "cell_type": "markdown",
   "id": "e72d1a79-ca1b-4cf5-b982-f9a57836a3a0",
   "metadata": {},
   "source": [
    "#### 10. Write a program to multiply two matrices "
   ]
  },
  {
   "cell_type": "code",
   "execution_count": 29,
   "id": "4a316465-0efc-49c7-8e6f-373aa81f2f41",
   "metadata": {},
   "outputs": [
    {
     "name": "stdout",
     "output_type": "stream",
     "text": [
      "[[8, 33], [125, 24]]\n"
     ]
    }
   ],
   "source": [
    "matrix1 = [\n",
    "    [2, 11],\n",
    "    [5, 2]\n",
    "]\n",
    "matrix2 = [\n",
    "    [4, 3],\n",
    "    [25, 12]\n",
    "]\n",
    "for rowIndex in range(len(matrix1)):\n",
    "    for colIndex in range(len(matrix1[rowIndex])):\n",
    "        matrix1[rowIndex][colIndex] *= matrix2[rowIndex][colIndex]\n",
    "print(matrix1)"
   ]
  },
  {
   "cell_type": "code",
   "execution_count": null,
   "id": "24399069-f09c-49a7-9907-5423b39d8a98",
   "metadata": {},
   "outputs": [],
   "source": []
  }
 ],
 "metadata": {
  "kernelspec": {
   "display_name": "Python [conda env:base] *",
   "language": "python",
   "name": "conda-base-py"
  },
  "language_info": {
   "codemirror_mode": {
    "name": "ipython",
    "version": 3
   },
   "file_extension": ".py",
   "mimetype": "text/x-python",
   "name": "python",
   "nbconvert_exporter": "python",
   "pygments_lexer": "ipython3",
   "version": "3.13.5"
  }
 },
 "nbformat": 4,
 "nbformat_minor": 5
}
