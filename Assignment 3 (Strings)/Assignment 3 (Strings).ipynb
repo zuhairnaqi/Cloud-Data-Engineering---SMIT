{
 "cells": [
  {
   "cell_type": "markdown",
   "id": "aa87914a-5e9b-4c20-81e6-0a63b3879479",
   "metadata": {},
   "source": [
    "#### 1. Write a program that accepts a string from user. Your program should count and display number of vowels in that string."
   ]
  },
  {
   "cell_type": "code",
   "execution_count": 2,
   "id": "2f906179-695c-42cb-85fa-527626d8eaea",
   "metadata": {},
   "outputs": [
    {
     "name": "stdin",
     "output_type": "stream",
     "text": [
      "Enter an input to find the number of vowels used zuuuuuhhaaaaiirrrrr\n"
     ]
    },
    {
     "name": "stdout",
     "output_type": "stream",
     "text": [
      "There are 3 vowels used\n"
     ]
    }
   ],
   "source": [
    "userInput = input(\"Enter an input to find the number of vowels used\")\n",
    "vowels = ['a', 'e', 'i', 'o', 'u']\n",
    "count = 0\n",
    "for vowel in vowels:\n",
    "    if vowel in userInput:\n",
    "        count += 1\n",
    "print(f\"There are {count} vowels used\")"
   ]
  },
  {
   "cell_type": "markdown",
   "id": "381e8696-6311-4f17-9615-33cfc3418a11",
   "metadata": {},
   "source": [
    "#### 2. Write a program that reads a string from keyboard and display:\n",
    "* The number of uppercase letters in the string\n",
    "* The number of lowercase letters in the string\n",
    "* The number of digits in the string\n",
    "* The number of whitespace characters in the string "
   ]
  },
  {
   "cell_type": "code",
   "execution_count": null,
   "id": "2a68c303-b283-4822-a21e-8dd7176f530c",
   "metadata": {},
   "outputs": [],
   "source": [
    "userInput = input(\"Enter any input\")\n",
    "characterDetails = {\n",
    "    'uppercase': 0,\n",
    "    'lowercase': 0,\n",
    "    'digits': 0,\n",
    "    'whitespaces': 0,\n",
    "}\n",
    "for character in userInput:\n",
    "    charCode = ord(character)\n",
    "    if charCode >= 65 and charCode <= 90:\n",
    "        characterDetails['uppercase'] += 1\n",
    "    elif charCode >= 97 and charCode <= 122:\n",
    "        characterDetails['lowercase'] += 1\n",
    "    elif charCode >= 48 and charCode <= 57:\n",
    "        characterDetails['digits'] += 1\n",
    "    elif charCode == 32:\n",
    "        characterDetails['whitespaces'] += 1\n",
    "print(f\"\"\"\n",
    "    Uppercase = {characterDetails['uppercase']}\n",
    "    Lowercase = {characterDetails['lowercase']}\n",
    "    Digits = {characterDetails['digits']}\n",
    "    Whitespaces = {characterDetails['whitespaces']}\n",
    "\"\"\")"
   ]
  },
  {
   "cell_type": "markdown",
   "id": "e314e66d-dbda-4db9-86d7-20f84874823c",
   "metadata": {},
   "source": [
    "#### 3. Write a Python program that accepts a string from user. Your program should create and display a new string where the first and last characters have been exchanged."
   ]
  },
  {
   "cell_type": "code",
   "execution_count": 12,
   "id": "51596cd4-7540-40dd-ac09-12ee245e1d1b",
   "metadata": {},
   "outputs": [
    {
     "name": "stdin",
     "output_type": "stream",
     "text": [
      "Enter an input to exchange the first and last characters Zuhair\n"
     ]
    },
    {
     "name": "stdout",
     "output_type": "stream",
     "text": [
      "ruhaiZ\n"
     ]
    }
   ],
   "source": [
    "userInput = input(\"Enter an input to exchange the first and last characters\")\n",
    "print(f\"{userInput[-1]}{userInput[1:-1]}{userInput[0]}\")"
   ]
  },
  {
   "cell_type": "markdown",
   "id": "5f44efc0-19c7-452e-8894-064b15010df6",
   "metadata": {},
   "source": [
    "#### 4. Write a Python program that accepts a string from user. Your program should create a new string in reverse of first string and display it. "
   ]
  },
  {
   "cell_type": "code",
   "execution_count": 14,
   "id": "d06d0a3a-5db3-4e31-b986-c665a9a8e256",
   "metadata": {},
   "outputs": [
    {
     "name": "stdin",
     "output_type": "stream",
     "text": [
      "Enter an input to reverse zuhair\n"
     ]
    },
    {
     "name": "stdout",
     "output_type": "stream",
     "text": [
      "riahuz\n"
     ]
    }
   ],
   "source": [
    "userInput = input(\"Enter an input to reverse\")\n",
    "reversedStr = ''\n",
    "for char in userInput:\n",
    "    reversedStr = char + reversedStr\n",
    "print(reversedStr)"
   ]
  },
  {
   "cell_type": "markdown",
   "id": "18c8e63b-92b8-436d-b7c8-6de292f6cdb7",
   "metadata": {},
   "source": [
    "#### 5. Write a Python program that accepts a string from user. Your program should create a new string by shifting one position to left. "
   ]
  },
  {
   "cell_type": "code",
   "execution_count": 15,
   "id": "19ce93a1-2f2a-4b97-a280-996a188380eb",
   "metadata": {},
   "outputs": [
    {
     "name": "stdin",
     "output_type": "stream",
     "text": [
      "Enter an input to shift one character to left Zuhair\n"
     ]
    },
    {
     "name": "stdout",
     "output_type": "stream",
     "text": [
      "uhairZ\n"
     ]
    }
   ],
   "source": [
    "userInput = input(\"Enter an input to shift one character to left\")\n",
    "print(f\"{userInput[1:]}{userInput[0]}\")"
   ]
  },
  {
   "cell_type": "markdown",
   "id": "cfc52716-831a-401b-8025-2e31de5a2e63",
   "metadata": {},
   "source": [
    "#### 6. Write a program that asks the user to input his name and print its initials. Assuming that the user always types first name, middle name and last name and does not include any unnecessary spaces. "
   ]
  },
  {
   "cell_type": "code",
   "execution_count": 21,
   "id": "0ab3f96c-11ca-40aa-9836-b516ab79cd04",
   "metadata": {},
   "outputs": [
    {
     "name": "stdin",
     "output_type": "stream",
     "text": [
      "Enter a name to find the initials Zuhair Naqi Ali\n"
     ]
    },
    {
     "name": "stdout",
     "output_type": "stream",
     "text": [
      "Z.N.A\n"
     ]
    }
   ],
   "source": [
    "userInput = input(\"Enter a name to find the initials\")\n",
    "initials = userInput[0]\n",
    "index = 0\n",
    "for character in userInput:\n",
    "    if character == \" \":\n",
    "        initials = f\"{initials}.{userInput[index + 1]}\"\n",
    "    index += 1\n",
    "print(initials)"
   ]
  },
  {
   "cell_type": "markdown",
   "id": "815974cc-917e-4a43-bc72-982961801c2d",
   "metadata": {},
   "source": [
    "#### 7. A palindrome is a string that reads the same backward as forward. For example, the words dad, madam and radar are all palindromes. Write a programs that determines whether the string is a palindrome."
   ]
  },
  {
   "cell_type": "code",
   "execution_count": 24,
   "id": "767d4400-0880-40f5-82bb-feab4c93e5a9",
   "metadata": {},
   "outputs": [
    {
     "name": "stdin",
     "output_type": "stream",
     "text": [
      "Enter an input to reverse madam\n"
     ]
    },
    {
     "name": "stdout",
     "output_type": "stream",
     "text": [
      "The input is palindrome\n"
     ]
    }
   ],
   "source": [
    "userInput = input(\"Enter an input to reverse\")\n",
    "reversedStr = ''\n",
    "for char in userInput:\n",
    "    reversedStr = char + reversedStr\n",
    "print(f\"The input is {\"\" if userInput == reversedStr else \"not \"}palindrome\")"
   ]
  },
  {
   "cell_type": "markdown",
   "id": "10965246-c4b3-490a-9367-e44f4388f6ec",
   "metadata": {},
   "source": [
    "#### 8. Write a program that display following output:\n",
    "* SHIFT\n",
    "* HIFTS\n",
    "* IFTSH\n",
    "* FTSHI\n",
    "* TSHIF\n",
    "* SHIFT"
   ]
  },
  {
   "cell_type": "code",
   "execution_count": 25,
   "id": "06cb82af-c417-4a3a-b602-198c09e02474",
   "metadata": {},
   "outputs": [
    {
     "name": "stdin",
     "output_type": "stream",
     "text": [
      "Enter an input to reverse SHIFT\n"
     ]
    },
    {
     "name": "stdout",
     "output_type": "stream",
     "text": [
      "SHIFT\n",
      "HIFTS\n",
      "IFTSH\n",
      "FTSHI\n",
      "TSHIF\n",
      "SHIFT\n"
     ]
    }
   ],
   "source": [
    "userInput = input(\"Enter an input to reverse\")\n",
    "print(userInput)\n",
    "for index in range(len(userInput)):\n",
    "    userInput = userInput[1:] + userInput[0]\n",
    "    print(userInput)"
   ]
  },
  {
   "cell_type": "markdown",
   "id": "5cb771bb-1221-4cd7-883f-fb27d985bc35",
   "metadata": {},
   "source": [
    "### 9. Write a program in python that accepts a string to setup a passwords. Your entered password must meet the following requirements:\n",
    "* The password must be at least eight characters long.\n",
    "* It must contain at least one uppercase letter.\n",
    "* It must contain at least one lowercase letter.\n",
    "* It must contain at least one numeric digit.\n",
    "* Your program should should perform this validation."
   ]
  },
  {
   "cell_type": "code",
   "execution_count": 27,
   "id": "b62c623f-92c4-4a52-8784-cfdab1a19e94",
   "metadata": {},
   "outputs": [
    {
     "name": "stdin",
     "output_type": "stream",
     "text": [
      "Enter a password zuhairNaqi123\n"
     ]
    },
    {
     "name": "stdout",
     "output_type": "stream",
     "text": [
      "password is valid\n"
     ]
    }
   ],
   "source": [
    "password = input(\"Enter a password\")\n",
    "\n",
    "hasUppercase = False\n",
    "hasLowercase = False\n",
    "hasDigits = False\n",
    "\n",
    "for character in password:\n",
    "    charCode = ord(character)\n",
    "    if charCode >= 65 and charCode <= 90:\n",
    "        hasUppercase = True\n",
    "    elif charCode >= 97 and charCode <= 122:\n",
    "        hasLowercase = True\n",
    "    elif charCode >= 48 and charCode <= 57:\n",
    "        hasDigits = True\n",
    "if len(password) >= 8 and hasUppercase and hasLowercase and hasDigits:\n",
    "    print(\"password is valid\")\n",
    "else:\n",
    "    print(\"password is not valid\")"
   ]
  }
 ],
 "metadata": {
  "kernelspec": {
   "display_name": "Python [conda env:base] *",
   "language": "python",
   "name": "conda-base-py"
  },
  "language_info": {
   "codemirror_mode": {
    "name": "ipython",
    "version": 3
   },
   "file_extension": ".py",
   "mimetype": "text/x-python",
   "name": "python",
   "nbconvert_exporter": "python",
   "pygments_lexer": "ipython3",
   "version": "3.13.5"
  }
 },
 "nbformat": 4,
 "nbformat_minor": 5
}
