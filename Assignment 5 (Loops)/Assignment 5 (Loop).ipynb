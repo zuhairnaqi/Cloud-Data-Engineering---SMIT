{
 "cells": [
  {
   "cell_type": "markdown",
   "id": "7edd8f30-50cf-4e82-b9ed-777eded79e2e",
   "metadata": {},
   "source": [
    "#### 1. Write a Python program to print the numbers from 1 to 10 using a for loop. "
   ]
  },
  {
   "cell_type": "code",
   "execution_count": 1,
   "id": "df1a0d34-51dc-45b1-a865-634a84f6d4da",
   "metadata": {},
   "outputs": [
    {
     "name": "stdout",
     "output_type": "stream",
     "text": [
      "1\n",
      "2\n",
      "3\n",
      "4\n",
      "5\n",
      "6\n",
      "7\n",
      "8\n",
      "9\n",
      "10\n"
     ]
    }
   ],
   "source": [
    "for num in range(1, 11):\n",
    "    print(num)"
   ]
  },
  {
   "cell_type": "markdown",
   "id": "acfa9ca8-0b92-44a4-b403-693c82ec1a25",
   "metadata": {},
   "source": [
    "#### 2. Write a Python program to print the numbers from 20 to 1 using a while loop."
   ]
  },
  {
   "cell_type": "code",
   "execution_count": 8,
   "id": "2f784ee0-9f6a-4359-9c83-5a2bc6286db7",
   "metadata": {},
   "outputs": [
    {
     "name": "stdout",
     "output_type": "stream",
     "text": [
      "20\n",
      "19\n",
      "18\n",
      "17\n",
      "16\n",
      "15\n",
      "14\n",
      "13\n",
      "12\n",
      "11\n",
      "10\n",
      "9\n",
      "8\n",
      "7\n",
      "6\n",
      "5\n",
      "4\n",
      "3\n",
      "2\n",
      "1\n"
     ]
    }
   ],
   "source": [
    "for num in range(20, 0, -1):\n",
    "    print(num)"
   ]
  },
  {
   "cell_type": "markdown",
   "id": "7624d427-35c2-4066-a2fc-248179078cbe",
   "metadata": {},
   "source": [
    "#### 3. Write a program to print even numbers from 1 to 10. "
   ]
  },
  {
   "cell_type": "code",
   "execution_count": 9,
   "id": "c4a45706-abd6-4bdc-a6f2-210eddc2338c",
   "metadata": {},
   "outputs": [
    {
     "name": "stdout",
     "output_type": "stream",
     "text": [
      "2\n",
      "4\n",
      "6\n",
      "8\n",
      "10\n"
     ]
    }
   ],
   "source": [
    "for num in range(1, 11):\n",
    "    if num % 2 == 0:\n",
    "        print(num)"
   ]
  },
  {
   "cell_type": "markdown",
   "id": "91d346f1-77cc-43bf-bc20-d2d5a27ee781",
   "metadata": {},
   "source": [
    "#### 4. Write a program that prompts the user to enter a number n and prints all the numbers from 1 to n."
   ]
  },
  {
   "cell_type": "code",
   "execution_count": 11,
   "id": "bd8fcb6b-700c-404e-933d-a84f6b9cc4fa",
   "metadata": {},
   "outputs": [
    {
     "name": "stdin",
     "output_type": "stream",
     "text": [
      "Enter a number to print from 1 till that number 4\n"
     ]
    },
    {
     "name": "stdout",
     "output_type": "stream",
     "text": [
      "1\n",
      "2\n",
      "3\n",
      "4\n"
     ]
    }
   ],
   "source": [
    "rangeNum = int(input(\"Enter a number to print from 1 till that number\"))\n",
    "for num in range(1, rangeNum + 1):\n",
    "    print(num)"
   ]
  },
  {
   "cell_type": "markdown",
   "id": "5675954e-9efb-4248-83a0-2d5274625094",
   "metadata": {},
   "source": [
    "#### 5. Write a program that prompts the user to enter a number n, and then prints all the odd numbers between 1 and n."
   ]
  },
  {
   "cell_type": "code",
   "execution_count": 16,
   "id": "55440fc1-d8d9-4095-9c58-a57450f0022b",
   "metadata": {},
   "outputs": [
    {
     "name": "stdin",
     "output_type": "stream",
     "text": [
      "Enter a number to print odd numbers from 1 till that number 4\n"
     ]
    },
    {
     "name": "stdout",
     "output_type": "stream",
     "text": [
      "1\n",
      "3\n"
     ]
    }
   ],
   "source": [
    "rangeNum = int(input(\"Enter a number to print odd numbers from 1 till that number\"))\n",
    "for num in range(1, rangeNum + 1):\n",
    "    if num % 2 != 0:\n",
    "        print(num)"
   ]
  },
  {
   "cell_type": "markdown",
   "id": "d56503b9-0c35-43ef-9eb4-9a93692e24cb",
   "metadata": {},
   "source": [
    "#### 6. Write a program that prints 'Happy Birthday!' five times on screen. "
   ]
  },
  {
   "cell_type": "code",
   "execution_count": 17,
   "id": "07a4a9a1-edfc-497c-adba-699c2a713a72",
   "metadata": {},
   "outputs": [
    {
     "name": "stdout",
     "output_type": "stream",
     "text": [
      "Happy Birthday!\n",
      "Happy Birthday!\n",
      "Happy Birthday!\n",
      "Happy Birthday!\n",
      "Happy Birthday!\n"
     ]
    }
   ],
   "source": [
    "for i in range(5):\n",
    "    print('Happy Birthday!')"
   ]
  },
  {
   "cell_type": "markdown",
   "id": "8b9ed6df-9aa0-4af5-b7d0-ec13eee2e3f0",
   "metadata": {},
   "source": [
    "####  7. Write a program that takes a number n as input from the user and generates the first n terms of the series formed by squaring the natural numbers. "
   ]
  },
  {
   "cell_type": "code",
   "execution_count": 19,
   "id": "3693e3b7-40c7-42b5-aaac-c860daf59c1a",
   "metadata": {},
   "outputs": [
    {
     "name": "stdin",
     "output_type": "stream",
     "text": [
      "Enter a number to generate the square series 6\n"
     ]
    },
    {
     "name": "stdout",
     "output_type": "stream",
     "text": [
      "1\n",
      "4\n",
      "9\n",
      "16\n",
      "25\n",
      "36\n"
     ]
    }
   ],
   "source": [
    "n = int(input(\"Enter a number to generate the square series\"))\n",
    "for num in range(1, n+1):\n",
    "    print(num**2)"
   ]
  },
  {
   "cell_type": "markdown",
   "id": "6efcb3f5-b94b-44a6-bb86-b4ec2e984b9d",
   "metadata": {},
   "source": [
    "#### 8. Write a program that prompts the user to input a number and prints its multiplication table."
   ]
  },
  {
   "cell_type": "code",
   "execution_count": 20,
   "id": "dd163b7a-6c04-4f17-b7e0-5f9f0d74f952",
   "metadata": {},
   "outputs": [
    {
     "name": "stdin",
     "output_type": "stream",
     "text": [
      "Enter a number to generate it's multiplication table 3\n"
     ]
    },
    {
     "name": "stdout",
     "output_type": "stream",
     "text": [
      "3 x 1 = 3\n",
      "3 x 2 = 6\n",
      "3 x 3 = 9\n",
      "3 x 4 = 12\n",
      "3 x 5 = 15\n",
      "3 x 6 = 18\n",
      "3 x 7 = 21\n",
      "3 x 8 = 24\n",
      "3 x 9 = 27\n",
      "3 x 10 = 30\n"
     ]
    }
   ],
   "source": [
    "multiplier = int(input(\"Enter a number to generate it's multiplication table\"))\n",
    "for num in range(1, 11):\n",
    "    print(f\"{multiplier} x {num} = {multiplier * num}\")"
   ]
  },
  {
   "cell_type": "markdown",
   "id": "204c9363-4294-4561-884c-314dc145dd96",
   "metadata": {},
   "source": [
    "#### 9. Write a Python program to print the first 8 terms of an arithmetic progression starting with 3 and having a common difference of 4.\n",
    "The program should output the following sequence:\n",
    "3 7 11 15 19 23 27 31 "
   ]
  },
  {
   "cell_type": "code",
   "execution_count": 22,
   "id": "3bb46037-295a-4e10-a999-f19218abb82f",
   "metadata": {},
   "outputs": [
    {
     "name": "stdout",
     "output_type": "stream",
     "text": [
      "3\n",
      "7\n",
      "11\n",
      "15\n",
      "19\n",
      "23\n",
      "27\n",
      "31\n"
     ]
    }
   ],
   "source": [
    "number = 3\n",
    "for i in range(8):\n",
    "    print(number)\n",
    "    number += 4"
   ]
  },
  {
   "cell_type": "markdown",
   "id": "3de0c0d7-4a70-4eb5-8f63-e758afa6244f",
   "metadata": {},
   "source": [
    "#### 10. Write a Python program to print the first 6 terms of a geometric sequence starting with 2 and having a common ratio of 3.\n",
    "The program should output the following sequence:\n",
    "2 6 18 54 162 486 "
   ]
  },
  {
   "cell_type": "code",
   "execution_count": 23,
   "id": "838abb57-172f-4758-82e8-145e24c63836",
   "metadata": {},
   "outputs": [
    {
     "name": "stdout",
     "output_type": "stream",
     "text": [
      "2\n",
      "6\n",
      "18\n",
      "54\n",
      "162\n",
      "486\n"
     ]
    }
   ],
   "source": [
    "number = 2\n",
    "for i in range(6):\n",
    "    print(number)\n",
    "    number *= 3"
   ]
  },
  {
   "cell_type": "markdown",
   "id": "1a882ff4-96fe-48a2-be4b-1494fb09c206",
   "metadata": {},
   "source": [
    "#### 11. Write a program that asks the user for a positive integer value. The program should calculate the sum of all the integers from 1 up to the number entered.\n",
    "For example, if the user enters 20, the loop will find the sum of 1, 2, 3, 4, ... 20. "
   ]
  },
  {
   "cell_type": "code",
   "execution_count": 25,
   "id": "5082108f-83c8-49bb-9288-118210dcd083",
   "metadata": {},
   "outputs": [
    {
     "name": "stdin",
     "output_type": "stream",
     "text": [
      "Enter a positive number that will sum up from 1 5\n"
     ]
    },
    {
     "name": "stdout",
     "output_type": "stream",
     "text": [
      "15\n"
     ]
    }
   ],
   "source": [
    "rangedNum = int(input('Enter a positive number that will sum up from 1'))\n",
    "sum = 0\n",
    "for num in range(1, rangedNum+1):\n",
    "    sum += num\n",
    "print(sum)"
   ]
  },
  {
   "cell_type": "markdown",
   "id": "6fbde444-b1c0-4b07-89d2-4590c9b9f5f9",
   "metadata": {},
   "source": [
    "#### 12. write a program that takes a positive integer N as input and calculates the sum of the reciprocals of all numbers from 1 up to N. The program should display the final sum.\n",
    "Output of the program should be like:\n",
    "Enter a positive integer: 5\n",
    "The sum of reciprocals from 1 to 5 is: 2.28 "
   ]
  },
  {
   "cell_type": "code",
   "execution_count": 28,
   "id": "8d87f9d6-7ae2-4f39-bc4c-72d9e8aca95b",
   "metadata": {},
   "outputs": [
    {
     "name": "stdin",
     "output_type": "stream",
     "text": [
      "Enter a positive number for reciprocal sum 5\n"
     ]
    },
    {
     "name": "stdout",
     "output_type": "stream",
     "text": [
      "2.28\n"
     ]
    }
   ],
   "source": [
    "number = int(input('Enter a positive number for reciprocal sum'))\n",
    "sum = 0\n",
    "for num in range(1, rangedNum+1):\n",
    "    sum += 1/num\n",
    "print(round(sum, 2))"
   ]
  },
  {
   "cell_type": "markdown",
   "id": "a8630880-8b8a-4f60-84df-b47a3dbad6d6",
   "metadata": {},
   "source": [
    "#### 13. Write a program that prompts the user to enter a number and repeats this process 5 times. The program should accumulate the numbers entered and then display the final running total."
   ]
  },
  {
   "cell_type": "code",
   "execution_count": 29,
   "id": "37872101-0c16-4981-b322-1d9312023ae6",
   "metadata": {},
   "outputs": [
    {
     "name": "stdin",
     "output_type": "stream",
     "text": [
      "Enter a number 10\n",
      "Enter a number 20\n",
      "Enter a number 30\n",
      "Enter a number 40\n",
      "Enter a number 50\n"
     ]
    },
    {
     "name": "stdout",
     "output_type": "stream",
     "text": [
      "150\n"
     ]
    }
   ],
   "source": [
    "sum = 0\n",
    "for i in range(5):\n",
    "    userInput = int(input(\"Enter a number\"))\n",
    "    sum += userInput\n",
    "print(sum)"
   ]
  },
  {
   "cell_type": "markdown",
   "id": "005cff96-1124-4768-85d3-2453ae775d5a",
   "metadata": {},
   "source": [
    "#### 14. Write a program that prompts the user to enter a positive integer and calculates its\n",
    "factorial. The factorial of a positive integer 'n' is denoted as 'n!' and is calculated by\n",
    "multiplying all the integers from 1 to 'n' together. For example, the factorial of 5\n",
    "(denoted as 5!) is calculated as 1 x 2 x 3 x 4 x 5.\n",
    "The program should display the factorial value if the input is a positive number, or\n",
    "display a message stating that the factorial does not exist for negative numbers.\n",
    "Additionally, for an input of zero, the program should output that the factorial of 0 is 1. "
   ]
  },
  {
   "cell_type": "code",
   "execution_count": 34,
   "id": "3f339fb4-ec32-475e-88b7-8e81b5137c5c",
   "metadata": {},
   "outputs": [
    {
     "name": "stdin",
     "output_type": "stream",
     "text": [
      "Enter a positive number to get factorial 4\n"
     ]
    },
    {
     "name": "stdout",
     "output_type": "stream",
     "text": [
      "24\n"
     ]
    }
   ],
   "source": [
    "rangedNum = int(input('Enter a positive number to get factorial'))\n",
    "result = 1\n",
    "for num in range(1, rangedNum+1):\n",
    "    result *= num\n",
    "print(result)"
   ]
  },
  {
   "cell_type": "markdown",
   "id": "5f712123-0b8a-46c1-abee-480bc20da20e",
   "metadata": {},
   "source": [
    "#### 15. Write a Python program that prompts the user to enter a base number and an exponent, and then calculates the power of the base to the exponent. The program should not use the exponentiation operator (**) or the math.pow() function. The program should handle both positive and negative exponents. "
   ]
  },
  {
   "cell_type": "code",
   "execution_count": 38,
   "id": "c4f67697-93af-4d22-80d0-1499d3848752",
   "metadata": {},
   "outputs": [
    {
     "name": "stdin",
     "output_type": "stream",
     "text": [
      "Enter a base number 3\n",
      "Enter a exponential number -2\n"
     ]
    },
    {
     "name": "stdout",
     "output_type": "stream",
     "text": [
      "0.11\n"
     ]
    }
   ],
   "source": [
    "baseNum = int(input('Enter a base number'))\n",
    "exponential = int(input('Enter a exponential number'))\n",
    "isNegativeExp = exponential < 0\n",
    "poweredNum = baseNum\n",
    "for num in range(1, abs(exponential)):\n",
    "    poweredNum *= baseNum\n",
    "if isNegativeExp:\n",
    "    print(round(1/poweredNum, 2))\n",
    "else:\n",
    "    print(poweredNum)"
   ]
  },
  {
   "cell_type": "code",
   "execution_count": null,
   "id": "46d474be-e142-4cbf-a637-70f76c534207",
   "metadata": {},
   "outputs": [],
   "source": []
  }
 ],
 "metadata": {
  "kernelspec": {
   "display_name": "Python [conda env:base] *",
   "language": "python",
   "name": "conda-base-py"
  },
  "language_info": {
   "codemirror_mode": {
    "name": "ipython",
    "version": 3
   },
   "file_extension": ".py",
   "mimetype": "text/x-python",
   "name": "python",
   "nbconvert_exporter": "python",
   "pygments_lexer": "ipython3",
   "version": "3.13.5"
  }
 },
 "nbformat": 4,
 "nbformat_minor": 5
}
