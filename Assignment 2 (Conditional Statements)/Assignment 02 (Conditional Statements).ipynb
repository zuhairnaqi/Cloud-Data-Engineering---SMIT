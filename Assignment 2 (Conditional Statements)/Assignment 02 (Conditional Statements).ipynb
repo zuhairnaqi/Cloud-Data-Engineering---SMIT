{
 "cells": [
  {
   "cell_type": "markdown",
   "metadata": {},
   "source": [
    "# Part -2 Python Basics (Conditional Statements)"
   ]
  },
  {
   "cell_type": "markdown",
   "metadata": {},
   "source": [
    "1) A company decided to give bonus of 5% to employee if his/her year of service is more than 5 years.\n",
    "Ask user for their salary and year of service and print the net bonus amount."
   ]
  },
  {
   "cell_type": "code",
   "execution_count": 5,
   "metadata": {},
   "outputs": [
    {
     "name": "stdout",
     "output_type": "stream",
     "text": [
      "what is your salary? 100000\n",
      "what is your years of service? 6\n"
     ]
    },
    {
     "name": "stdout",
     "output_type": "stream",
     "text": [
      "Congratulations, you got 105000.0 Rs bonus\n"
     ]
    }
   ],
   "source": [
    "salary = int(input(\"what is your salary?\"))\n",
    "yearsOfService = int(input(\"what is your years of service?\"))\n",
    "if yearsOfService > 5:\n",
    "    print(f\"Congratulations, you got {salary + (salary * 0.05)} Rs bonus\")\n",
    "else:\n",
    "    print(f\"you're not eligible for bonus\")"
   ]
  },
  {
   "cell_type": "markdown",
   "metadata": {},
   "source": [
    "\n",
    "2) Write a program to check whether a person is eligible for voting or not. (accept age from user) if age is greater than 17 eligible otherwise not eligible"
   ]
  },
  {
   "cell_type": "code",
   "execution_count": 6,
   "metadata": {},
   "outputs": [
    {
     "name": "stdout",
     "output_type": "stream",
     "text": [
      "what is your age? 2\n"
     ]
    },
    {
     "name": "stdout",
     "output_type": "stream",
     "text": [
      "You are not eligible for voting\n"
     ]
    }
   ],
   "source": [
    "age = int(input(\"what is your age?\"))\n",
    "print(f\"You are {'eligible' if age > 17 else 'not eligible'} for voting\")"
   ]
  },
  {
   "cell_type": "markdown",
   "metadata": {},
   "source": [
    "\n",
    "3) Write a program to check whether a number entered by user is even or odd."
   ]
  },
  {
   "cell_type": "code",
   "execution_count": 7,
   "metadata": {},
   "outputs": [
    {
     "name": "stdout",
     "output_type": "stream",
     "text": [
      "Write a number to check if it's even or odd 2\n"
     ]
    },
    {
     "name": "stdout",
     "output_type": "stream",
     "text": [
      "Provided number is  even\n"
     ]
    }
   ],
   "source": [
    "number = int(input(\"Write a number to check if it's even or odd\"))\n",
    "print(f\"Provided number is  {'even' if number % 2 == 0 else 'odd'}\")"
   ]
  },
  {
   "cell_type": "markdown",
   "metadata": {},
   "source": [
    "4) Write a program to check whether a number is divisible by 7 or not.\n",
    "Show Answer"
   ]
  },
  {
   "cell_type": "code",
   "execution_count": 8,
   "metadata": {},
   "outputs": [
    {
     "name": "stdout",
     "output_type": "stream",
     "text": [
      "Write a number to check if it's divisible by 7 7\n"
     ]
    },
    {
     "name": "stdout",
     "output_type": "stream",
     "text": [
      "Provided number is divisible by 7\n"
     ]
    }
   ],
   "source": [
    "number = int(input(\"Write a number to check if it's divisible by 7\"))\n",
    "print(f\"Provided number is{'' if number % 7 == 0 else ' not'} divisible by 7\")"
   ]
  },
  {
   "cell_type": "markdown",
   "metadata": {},
   "source": [
    "5) Write a program to display \n",
    "\"Hello\" if a number entered by user is a multiple of five , otherwise print \"Bye\"."
   ]
  },
  {
   "cell_type": "code",
   "execution_count": 9,
   "metadata": {},
   "outputs": [
    {
     "name": "stdout",
     "output_type": "stream",
     "text": [
      "Write your favourite number 2\n"
     ]
    },
    {
     "name": "stdout",
     "output_type": "stream",
     "text": [
      "Bye\n"
     ]
    }
   ],
   "source": [
    "number = int(input(\"Write your favourite number\"))\n",
    "print(f\"{'Hello' if number % 5 == 0 else 'Bye'}\")"
   ]
  },
  {
   "cell_type": "markdown",
   "metadata": {},
   "source": [
    "6) Write a program to calculate the electricity bill (accept number of unit from user) according to the following criteria :\n",
    "     Unit                                                     Price  \n",
    "uptp 100 units                                             no charge\n",
    "Next 200 units                                              Rs 5 per unit\n",
    "After 200 units                                             Rs 10 per unit\n",
    "(For example if input unit is 350 than total bill amount is Rs.3500\n",
    "(For example if input unit is 97 than total bill amount is Rs.0\n",
    "(For example if input unit is 150 than total bill amount is Rs.750"
   ]
  },
  {
   "cell_type": "code",
   "execution_count": 27,
   "metadata": {},
   "outputs": [
    {
     "name": "stdout",
     "output_type": "stream",
     "text": [
      "Enter the electricity unit used? 150\n"
     ]
    },
    {
     "name": "stdout",
     "output_type": "stream",
     "text": [
      "Your bill is  750\n"
     ]
    }
   ],
   "source": [
    "unit = int(input(\"Enter the electricity unit used?\"))\n",
    "if unit > 200:\n",
    "    print(\"Your bill is \", unit * 10)\n",
    "elif unit > 100:\n",
    "    print(\"Your bill is \", unit * 5)\n",
    "else:\n",
    "    print(\"Your bill is \", 0)"
   ]
  },
  {
   "cell_type": "markdown",
   "metadata": {},
   "source": [
    "7) Write a program to display the last digit of a number.\n"
   ]
  },
  {
   "cell_type": "code",
   "execution_count": 17,
   "metadata": {},
   "outputs": [
    {
     "name": "stdout",
     "output_type": "stream",
     "text": [
      "Write a number, I'll give you the last digit of it 1234\n"
     ]
    },
    {
     "name": "stdout",
     "output_type": "stream",
     "text": [
      "Last digit is  4\n"
     ]
    }
   ],
   "source": [
    "number = int(input(\"Write a number, I'll give you the last digit of it\"))\n",
    "numStr = str(number)\n",
    "print(\"Last digit is \", numStr[-1])"
   ]
  },
  {
   "cell_type": "markdown",
   "metadata": {},
   "source": [
    "9) Take values of length and breadth of a rectangle from user and print if it is square or rectangle."
   ]
  },
  {
   "cell_type": "code",
   "execution_count": 19,
   "metadata": {},
   "outputs": [
    {
     "name": "stdout",
     "output_type": "stream",
     "text": [
      "Write a length of object 5\n",
      "Write a breadth of object 4\n"
     ]
    },
    {
     "name": "stdout",
     "output_type": "stream",
     "text": [
      "The object is rectangle\n"
     ]
    }
   ],
   "source": [
    "length = int(input(\"Write a length of object\"))\n",
    "breadth = int(input(\"Write a breadth of object\"))\n",
    "print(f\"The object is {'square' if length == breadth else \"rectangle\"}\")"
   ]
  },
  {
   "cell_type": "markdown",
   "metadata": {},
   "source": [
    "10) Take two int values from user and print greatest among them."
   ]
  },
  {
   "cell_type": "code",
   "execution_count": 21,
   "metadata": {},
   "outputs": [
    {
     "name": "stdout",
     "output_type": "stream",
     "text": [
      "Write a number 4\n",
      "Write a second number 3\n"
     ]
    },
    {
     "name": "stdout",
     "output_type": "stream",
     "text": [
      "The first number is greater then second\n"
     ]
    }
   ],
   "source": [
    "input1 = int(input(\"Write a number\"))\n",
    "input2 = int(input(\"Write a second number\"))\n",
    "if input1 > input2:\n",
    "    print(\"The first number is greater then second\")\n",
    "else:\n",
    "    print(\"The second number is greater then first\")"
   ]
  },
  {
   "cell_type": "markdown",
   "metadata": {},
   "source": [
    "11) A shop will give discount of 10% if the cost of purchased quantity is more than 1000.\n",
    "Ask user for quantity\n",
    "Suppose, one unit will cost 100.\n",
    "Judge and print total cost for user."
   ]
  },
  {
   "cell_type": "code",
   "execution_count": 2,
   "metadata": {},
   "outputs": [
    {
     "name": "stdout",
     "output_type": "stream",
     "text": [
      "Enter the quantity you've purchases? 9\n"
     ]
    },
    {
     "name": "stdout",
     "output_type": "stream",
     "text": [
      "Total cost 900\n"
     ]
    },
    {
     "name": "stdout",
     "output_type": "stream",
     "text": [
      "Total cost 90090.0\n"
     ]
    }
   ],
   "source": [
    "quantity = int(input(\"Enter the quantity you've purchases?\"))\n",
    "unitPrice = 100\n",
    "total = quantity * unitPrice\n",
    "if total > 1000:\n",
    "    discount = total * 0.1\n",
    "    print(\"Total cost\", total - discount)\n",
    "else:\n",
    "    print(\"Total cost\", total)"
   ]
  },
  {
   "cell_type": "markdown",
   "metadata": {},
   "source": [
    "12) A school has following rules for grading system:\n",
    "\n",
    "a. Below 25 - F\n",
    "\n",
    "b. 25 to 45 - E\n",
    "\n",
    "c. 45 to 50 - D\n",
    "\n",
    "d. 50 to 60 - C\n",
    "\n",
    "e. 60 to 80 - B\n",
    "\n",
    "f. Above 80 - A\n",
    "\n",
    "Ask user to enter marks and print the corresponding grade."
   ]
  },
  {
   "cell_type": "code",
   "execution_count": 28,
   "metadata": {},
   "outputs": [
    {
     "name": "stdout",
     "output_type": "stream",
     "text": [
      "Enter your percentage? 24\n"
     ]
    },
    {
     "name": "stdout",
     "output_type": "stream",
     "text": [
      "Your grade is F\n"
     ]
    }
   ],
   "source": [
    "percentage = int(input(\"Enter your percentage?\"))\n",
    "if percentage >= 80:\n",
    "    print(\"Your grade is A\")\n",
    "elif percentage >= 60:\n",
    "    print(\"Your grade is B\")\n",
    "elif percentage >= 50:\n",
    "    print(\"Your grade is C\")\n",
    "elif percentage >= 45:\n",
    "    print(\"Your grade is D\")\n",
    "elif percentage >= 25:\n",
    "    print(\"Your grade is E\")\n",
    "else:\n",
    "    print(\"Your grade is F\")"
   ]
  },
  {
   "cell_type": "markdown",
   "metadata": {},
   "source": [
    "14)A student will not be allowed to sit in exam if his/her attendence is less than 75%.\n",
    "\n",
    "Take following input from user\n",
    "\n",
    "- Number of classes held\n",
    "\n",
    "- Number of classes attended.\n",
    "\n",
    "And print\n",
    "\n",
    "- percentage of class attended\n",
    "\n",
    "- Is student is allowed to sit in exam or not.\n"
   ]
  },
  {
   "cell_type": "code",
   "execution_count": 8,
   "metadata": {},
   "outputs": [
    {
     "name": "stdout",
     "output_type": "stream",
     "text": [
      "How many classes held? 10\n",
      "How many classes attended? 6\n"
     ]
    },
    {
     "name": "stdout",
     "output_type": "stream",
     "text": [
      "\n",
      "    Class attended percentage is 60\n",
      "    You are not allowed to sit in exam\n",
      "\n"
     ]
    },
    {
     "name": "stdout",
     "output_type": "stream",
     "text": [
      "\n",
      "    Class attended percentage is 80\n",
      "    You are allowed to sit in exam\n",
      "\n"
     ]
    }
   ],
   "source": [
    "classes = int(input(\"How many classes held?\"))\n",
    "attended = int(input(\"How many classes attended?\"))\n",
    "attendencePercentage = round(attended / classes * 100)\n",
    "print(f\"\"\"\n",
    "    Class attended percentage is {attendencePercentage}\n",
    "    You are{\"\" if attendencePercentage >= 75 else \" not\"} allowed to sit in exam\n",
    "\"\"\")"
   ]
  },
  {
   "cell_type": "markdown",
   "metadata": {},
   "source": [
    "15) Modify the above question to allow student to sit if he/she has medical cause. Ask user if he/she has medical cause or not ( 'Y' or 'N' ) and print accordingly."
   ]
  },
  {
   "cell_type": "code",
   "execution_count": 10,
   "metadata": {},
   "outputs": [
    {
     "name": "stdout",
     "output_type": "stream",
     "text": [
      "Had you missed the classes due to medical causes? Answer with 'Y' or 'N' N\n"
     ]
    },
    {
     "name": "stdout",
     "output_type": "stream",
     "text": [
      "You are not allowed to sit in exam\n"
     ]
    }
   ],
   "source": [
    "medicalCause = input(\"Had you missed the classes due to medical causes? Answer with 'Y' or 'N'\")\n",
    "if attendencePercentage >= 75 or medicalCause == 'Y':\n",
    "    print(\"You are allowed to sit in exam\")\n",
    "else:\n",
    "    print(\"You are not allowed to sit in exam\")"
   ]
  },
  {
   "cell_type": "markdown",
   "metadata": {},
   "source": [
    "16) Write a program to check if a year is leap year or not.\n",
    "\n",
    "If a year is divisible by 4 then it is leap year but if the year is century year like 2000, 1900, 2100 then it must be divisible by 400."
   ]
  },
  {
   "cell_type": "code",
   "execution_count": 16,
   "metadata": {},
   "outputs": [
    {
     "name": "stdout",
     "output_type": "stream",
     "text": [
      "Write an year to check if it's leap year 2021\n"
     ]
    },
    {
     "name": "stdout",
     "output_type": "stream",
     "text": [
      "The year is not leap year\n"
     ]
    }
   ],
   "source": [
    "year = int(input(\"Write an year to check if it's leap year\"))\n",
    "# if year is century\n",
    "if year % 100 == 0:\n",
    "    print(f\"The year is{'' if year % 400 == 0 else ' not'} leap year\")\n",
    "else:\n",
    "    print(f\"The year is{'' if year % 4 == 0 else ' not'} leap year\")"
   ]
  },
  {
   "cell_type": "markdown",
   "metadata": {},
   "source": [
    "17) Ask user to enter age, gender ( M or F ), marital status ( Y or N ) and then using following rules print their place of service.\n",
    "\n",
    "if employee is female, then she will work only in urban areas.\n",
    "\n",
    "if employee is a male and age is in between 20 to 40 then he may work in anywhere\n",
    "\n",
    "if employee is male and age is in between 40 t0 60 then he will work in urban areas only.\n",
    "\n",
    "And any other input of age should print \"ERROR\""
   ]
  },
  {
   "cell_type": "code",
   "execution_count": 23,
   "metadata": {},
   "outputs": [
    {
     "name": "stdout",
     "output_type": "stream",
     "text": [
      "Enter your age 11\n",
      "Enter your gender? Answer M or F M\n",
      "Are you married? Answer Y or N N\n"
     ]
    },
    {
     "name": "stdout",
     "output_type": "stream",
     "text": [
      "ERROR\n"
     ]
    }
   ],
   "source": [
    "age = int(input(\"Enter your age\"))\n",
    "gender = input(\"Enter your gender? Answer M or F\")\n",
    "married = input(\"Are you married? Answer Y or N\")\n",
    "if gender == \"F\":\n",
    "    print(\"Urban areas\")\n",
    "elif gender == \"M\" and age > 20 and age < 40:\n",
    "    print(\"Anywhere\")\n",
    "elif gender == \"M\" and age > 40 and age < 60:\n",
    "    print(\"Urban areas\")\n",
    "else:\n",
    "    print(\"ERROR\")"
   ]
  },
  {
   "cell_type": "markdown",
   "metadata": {},
   "source": [
    "13) Take input of age of 3 people by user and determine oldest and youngest among them."
   ]
  },
  {
   "cell_type": "code",
   "execution_count": 5,
   "metadata": {
    "scrolled": true
   },
   "outputs": [
    {
     "name": "stdin",
     "output_type": "stream",
     "text": [
      "Enter age of person 1 20\n",
      "Enter age of person 2 25\n",
      "Enter age of person 3 10\n"
     ]
    },
    {
     "name": "stdout",
     "output_type": "stream",
     "text": [
      "Youngest age 10\n",
      "Oldest age 25\n"
     ]
    }
   ],
   "source": [
    "age1 = int(input(\"Enter age of person 1\"))\n",
    "age2 = int(input(\"Enter age of person 2\"))\n",
    "age3 = int(input(\"Enter age of person 3\"))\n",
    "youngest = age1\n",
    "oldest = 0\n",
    "\n",
    "personAges = [age1, age2, age3]\n",
    "for age in personAges:\n",
    "    if age < youngest:\n",
    "        youngest = age\n",
    "    if age > oldest:\n",
    "        oldest = age\n",
    "\n",
    "print(\"Youngest age\", youngest)\n",
    "print(\"Oldest age\", oldest)"
   ]
  },
  {
   "cell_type": "code",
   "execution_count": null,
   "metadata": {},
   "outputs": [],
   "source": []
  }
 ],
 "metadata": {
  "kernelspec": {
   "display_name": "Python [conda env:base] *",
   "language": "python",
   "name": "conda-base-py"
  },
  "language_info": {
   "codemirror_mode": {
    "name": "ipython",
    "version": 3
   },
   "file_extension": ".py",
   "mimetype": "text/x-python",
   "name": "python",
   "nbconvert_exporter": "python",
   "pygments_lexer": "ipython3",
   "version": "3.13.5"
  }
 },
 "nbformat": 4,
 "nbformat_minor": 4
}
